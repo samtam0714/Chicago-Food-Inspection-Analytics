{
  "nbformat": 4,
  "nbformat_minor": 0,
  "metadata": {
    "colab": {
      "name": "food inspection - data cleaning.ipynb",
      "provenance": [],
      "collapsed_sections": [],
      "mount_file_id": "15YrmrsK-9h71dDMrIp_yBAY-DoAaOAU8",
      "authorship_tag": "ABX9TyNv6RptKr50qH8H4osPtoYG",
      "include_colab_link": true
    },
    "kernelspec": {
      "name": "python3",
      "display_name": "Python 3"
    }
  },
  "cells": [
    {
      "cell_type": "markdown",
      "metadata": {
        "id": "view-in-github",
        "colab_type": "text"
      },
      "source": [
        "<a href=\"https://colab.research.google.com/github/samtam0714/Chicago-Food-Inspection-Analytics/blob/main/food_inspection_data_cleaning.ipynb\" target=\"_parent\"><img src=\"https://colab.research.google.com/assets/colab-badge.svg\" alt=\"Open In Colab\"/></a>"
      ]
    },
    {
      "cell_type": "code",
      "metadata": {
        "id": "HFZzuy1wub3l",
        "outputId": "4033eb50-a9bd-477f-fda9-ad58f56795a5",
        "colab": {
          "base_uri": "https://localhost:8080/",
          "height": 471
        }
      },
      "source": [
        "!pip install geopandas"
      ],
      "execution_count": null,
      "outputs": [
        {
          "output_type": "stream",
          "text": [
            "Collecting geopandas\n",
            "\u001b[?25l  Downloading https://files.pythonhosted.org/packages/f7/a4/e66aafbefcbb717813bf3a355c8c4fc3ed04ea1dd7feb2920f2f4f868921/geopandas-0.8.1-py2.py3-none-any.whl (962kB)\n",
            "\u001b[K     |████████████████████████████████| 972kB 2.9MB/s \n",
            "\u001b[?25hRequirement already satisfied: pandas>=0.23.0 in /usr/local/lib/python3.6/dist-packages (from geopandas) (1.0.5)\n",
            "Collecting pyproj>=2.2.0\n",
            "\u001b[?25l  Downloading https://files.pythonhosted.org/packages/e5/c3/071e080230ac4b6c64f1a2e2f9161c9737a2bc7b683d2c90b024825000c0/pyproj-2.6.1.post1-cp36-cp36m-manylinux2010_x86_64.whl (10.9MB)\n",
            "\u001b[K     |████████████████████████████████| 10.9MB 10.0MB/s \n",
            "\u001b[?25hCollecting fiona\n",
            "\u001b[?25l  Downloading https://files.pythonhosted.org/packages/ec/20/4e63bc5c6e62df889297b382c3ccd4a7a488b00946aaaf81a118158c6f09/Fiona-1.8.13.post1-cp36-cp36m-manylinux1_x86_64.whl (14.7MB)\n",
            "\u001b[K     |████████████████████████████████| 14.7MB 303kB/s \n",
            "\u001b[?25hRequirement already satisfied: shapely in /usr/local/lib/python3.6/dist-packages (from geopandas) (1.7.0)\n",
            "Requirement already satisfied: numpy>=1.13.3 in /usr/local/lib/python3.6/dist-packages (from pandas>=0.23.0->geopandas) (1.18.5)\n",
            "Requirement already satisfied: python-dateutil>=2.6.1 in /usr/local/lib/python3.6/dist-packages (from pandas>=0.23.0->geopandas) (2.8.1)\n",
            "Requirement already satisfied: pytz>=2017.2 in /usr/local/lib/python3.6/dist-packages (from pandas>=0.23.0->geopandas) (2018.9)\n",
            "Collecting cligj>=0.5\n",
            "  Downloading https://files.pythonhosted.org/packages/e4/be/30a58b4b0733850280d01f8bd132591b4668ed5c7046761098d665ac2174/cligj-0.5.0-py3-none-any.whl\n",
            "Collecting munch\n",
            "  Downloading https://files.pythonhosted.org/packages/cc/ab/85d8da5c9a45e072301beb37ad7f833cd344e04c817d97e0cc75681d248f/munch-2.5.0-py2.py3-none-any.whl\n",
            "Requirement already satisfied: attrs>=17 in /usr/local/lib/python3.6/dist-packages (from fiona->geopandas) (19.3.0)\n",
            "Collecting click-plugins>=1.0\n",
            "  Downloading https://files.pythonhosted.org/packages/e9/da/824b92d9942f4e472702488857914bdd50f73021efea15b4cad9aca8ecef/click_plugins-1.1.1-py2.py3-none-any.whl\n",
            "Requirement already satisfied: click<8,>=4.0 in /usr/local/lib/python3.6/dist-packages (from fiona->geopandas) (7.1.2)\n",
            "Requirement already satisfied: six>=1.7 in /usr/local/lib/python3.6/dist-packages (from fiona->geopandas) (1.15.0)\n",
            "Installing collected packages: pyproj, cligj, munch, click-plugins, fiona, geopandas\n",
            "Successfully installed click-plugins-1.1.1 cligj-0.5.0 fiona-1.8.13.post1 geopandas-0.8.1 munch-2.5.0 pyproj-2.6.1.post1\n"
          ],
          "name": "stdout"
        }
      ]
    },
    {
      "cell_type": "code",
      "metadata": {
        "id": "OZg6NhWguiRQ",
        "outputId": "aa4d00d0-1790-48fb-b26d-fce448e39a9c",
        "colab": {
          "base_uri": "https://localhost:8080/",
          "height": 72
        }
      },
      "source": [
        "# importing necessary libraries\n",
        "import numpy as np\n",
        "import pandas as pd\n",
        "import matplotlib.pyplot as plt\n",
        "%matplotlib inline\n",
        "import seaborn as sns\n",
        "import os \n",
        "import seaborn as sns\n",
        "import geopandas as gpd\n",
        "import folium\n",
        "from folium import plugins\n",
        "import datetime\n",
        "import math"
      ],
      "execution_count": null,
      "outputs": [
        {
          "output_type": "stream",
          "text": [
            "/usr/local/lib/python3.6/dist-packages/statsmodels/tools/_testing.py:19: FutureWarning: pandas.util.testing is deprecated. Use the functions in the public API at pandas.testing instead.\n",
            "  import pandas.util.testing as tm\n"
          ],
          "name": "stderr"
        }
      ]
    },
    {
      "cell_type": "code",
      "metadata": {
        "id": "ExEIsdb2uima",
        "outputId": "ecaeb7a0-34fa-465a-a944-0b9045abb2e6",
        "colab": {
          "base_uri": "https://localhost:8080/",
          "height": 482
        }
      },
      "source": [
        "#load dataset\n",
        "dataset = pd.read_csv('/content/drive/My Drive/Food_Inspections.csv')\n",
        "dataset.head()"
      ],
      "execution_count": null,
      "outputs": [
        {
          "output_type": "execute_result",
          "data": {
            "text/html": [
              "<div>\n",
              "<style scoped>\n",
              "    .dataframe tbody tr th:only-of-type {\n",
              "        vertical-align: middle;\n",
              "    }\n",
              "\n",
              "    .dataframe tbody tr th {\n",
              "        vertical-align: top;\n",
              "    }\n",
              "\n",
              "    .dataframe thead th {\n",
              "        text-align: right;\n",
              "    }\n",
              "</style>\n",
              "<table border=\"1\" class=\"dataframe\">\n",
              "  <thead>\n",
              "    <tr style=\"text-align: right;\">\n",
              "      <th></th>\n",
              "      <th>Inspection ID</th>\n",
              "      <th>DBA Name</th>\n",
              "      <th>AKA Name</th>\n",
              "      <th>License #</th>\n",
              "      <th>Facility Type</th>\n",
              "      <th>Risk</th>\n",
              "      <th>Address</th>\n",
              "      <th>City</th>\n",
              "      <th>State</th>\n",
              "      <th>Zip</th>\n",
              "      <th>Inspection Date</th>\n",
              "      <th>Inspection Type</th>\n",
              "      <th>Results</th>\n",
              "      <th>Violations</th>\n",
              "      <th>Latitude</th>\n",
              "      <th>Longitude</th>\n",
              "      <th>Location</th>\n",
              "    </tr>\n",
              "  </thead>\n",
              "  <tbody>\n",
              "    <tr>\n",
              "      <th>0</th>\n",
              "      <td>2385628</td>\n",
              "      <td>ALL IN 1 DISCOUNT INC</td>\n",
              "      <td>ALL IN 1 DISCOUNT INC</td>\n",
              "      <td>2744661.0</td>\n",
              "      <td>Grocery Store</td>\n",
              "      <td>Risk 3 (Low)</td>\n",
              "      <td>5719-5725 W DIVERSEY AVE</td>\n",
              "      <td>CHICAGO</td>\n",
              "      <td>IL</td>\n",
              "      <td>60639.0</td>\n",
              "      <td>08/03/2020</td>\n",
              "      <td>License</td>\n",
              "      <td>Pass w/ Conditions</td>\n",
              "      <td>5. PROCEDURES FOR RESPONDING TO VOMITING AND D...</td>\n",
              "      <td>41.931121</td>\n",
              "      <td>-87.769554</td>\n",
              "      <td>(-87.76955418373417, 41.9311212237607)</td>\n",
              "    </tr>\n",
              "    <tr>\n",
              "      <th>1</th>\n",
              "      <td>2385591</td>\n",
              "      <td>HELEN'S GROCERY &amp; LIQ</td>\n",
              "      <td>HELEN'S GROCERY &amp; LIQ</td>\n",
              "      <td>8017.0</td>\n",
              "      <td>Grocery Store</td>\n",
              "      <td>Risk 3 (Low)</td>\n",
              "      <td>2300 W 21ST ST</td>\n",
              "      <td>CHICAGO</td>\n",
              "      <td>IL</td>\n",
              "      <td>60608.0</td>\n",
              "      <td>07/31/2020</td>\n",
              "      <td>Canvass</td>\n",
              "      <td>Out of Business</td>\n",
              "      <td>NaN</td>\n",
              "      <td>41.854005</td>\n",
              "      <td>-87.683363</td>\n",
              "      <td>(-87.6833629225202, 41.8540047775837)</td>\n",
              "    </tr>\n",
              "    <tr>\n",
              "      <th>2</th>\n",
              "      <td>2385590</td>\n",
              "      <td>PETE'S FRESH SUPERMARKET</td>\n",
              "      <td>PETE'S FRESH SUPERMARKET</td>\n",
              "      <td>1771242.0</td>\n",
              "      <td>Grocery Store</td>\n",
              "      <td>Risk 1 (High)</td>\n",
              "      <td>2526 W CERMAK RD</td>\n",
              "      <td>CHICAGO</td>\n",
              "      <td>IL</td>\n",
              "      <td>60608.0</td>\n",
              "      <td>07/31/2020</td>\n",
              "      <td>Complaint Re-Inspection</td>\n",
              "      <td>Pass</td>\n",
              "      <td>NaN</td>\n",
              "      <td>41.852101</td>\n",
              "      <td>-87.689051</td>\n",
              "      <td>(-87.68905111060724, 41.85210065324028)</td>\n",
              "    </tr>\n",
              "    <tr>\n",
              "      <th>3</th>\n",
              "      <td>2385587</td>\n",
              "      <td>QUEST FOOD MANAGEMENT SERVICES INC</td>\n",
              "      <td>QUEST FOOD MANAGEMENT SERVICES INC</td>\n",
              "      <td>2744583.0</td>\n",
              "      <td>NaN</td>\n",
              "      <td>Risk 1 (High)</td>\n",
              "      <td>3300 N CAMPBELL AVE</td>\n",
              "      <td>CHICAGO</td>\n",
              "      <td>IL</td>\n",
              "      <td>60618.0</td>\n",
              "      <td>07/31/2020</td>\n",
              "      <td>License</td>\n",
              "      <td>Not Ready</td>\n",
              "      <td>NaN</td>\n",
              "      <td>41.941426</td>\n",
              "      <td>-87.690799</td>\n",
              "      <td>(-87.69079930080058, 41.94142629278533)</td>\n",
              "    </tr>\n",
              "    <tr>\n",
              "      <th>4</th>\n",
              "      <td>2385543</td>\n",
              "      <td>OUTLET KINGDOM</td>\n",
              "      <td>NaN</td>\n",
              "      <td>2054475.0</td>\n",
              "      <td>GENERAL STORE</td>\n",
              "      <td>Risk 3 (Low)</td>\n",
              "      <td>3449-3451 S HALSTED ST</td>\n",
              "      <td>CHICAGO</td>\n",
              "      <td>IL</td>\n",
              "      <td>60608.0</td>\n",
              "      <td>07/30/2020</td>\n",
              "      <td>Canvass</td>\n",
              "      <td>Out of Business</td>\n",
              "      <td>NaN</td>\n",
              "      <td>41.831075</td>\n",
              "      <td>-87.645971</td>\n",
              "      <td>(-87.6459711121892, 41.831074943653626)</td>\n",
              "    </tr>\n",
              "  </tbody>\n",
              "</table>\n",
              "</div>"
            ],
            "text/plain": [
              "   Inspection ID  ...                                 Location\n",
              "0        2385628  ...   (-87.76955418373417, 41.9311212237607)\n",
              "1        2385591  ...    (-87.6833629225202, 41.8540047775837)\n",
              "2        2385590  ...  (-87.68905111060724, 41.85210065324028)\n",
              "3        2385587  ...  (-87.69079930080058, 41.94142629278533)\n",
              "4        2385543  ...  (-87.6459711121892, 41.831074943653626)\n",
              "\n",
              "[5 rows x 17 columns]"
            ]
          },
          "metadata": {
            "tags": []
          },
          "execution_count": 3
        }
      ]
    },
    {
      "cell_type": "code",
      "metadata": {
        "id": "3sVl4MZhuipJ",
        "outputId": "82a0fb09-a2e3-4440-e033-0584af8f496a",
        "colab": {
          "base_uri": "https://localhost:8080/",
          "height": 269
        }
      },
      "source": [
        "dataset = dataset.applymap(lambda s:s.lower() if type(s) == str else s)\n",
        "dataset.head(2)"
      ],
      "execution_count": null,
      "outputs": [
        {
          "output_type": "execute_result",
          "data": {
            "text/html": [
              "<div>\n",
              "<style scoped>\n",
              "    .dataframe tbody tr th:only-of-type {\n",
              "        vertical-align: middle;\n",
              "    }\n",
              "\n",
              "    .dataframe tbody tr th {\n",
              "        vertical-align: top;\n",
              "    }\n",
              "\n",
              "    .dataframe thead th {\n",
              "        text-align: right;\n",
              "    }\n",
              "</style>\n",
              "<table border=\"1\" class=\"dataframe\">\n",
              "  <thead>\n",
              "    <tr style=\"text-align: right;\">\n",
              "      <th></th>\n",
              "      <th>Inspection ID</th>\n",
              "      <th>DBA Name</th>\n",
              "      <th>AKA Name</th>\n",
              "      <th>License #</th>\n",
              "      <th>Facility Type</th>\n",
              "      <th>Risk</th>\n",
              "      <th>Address</th>\n",
              "      <th>City</th>\n",
              "      <th>State</th>\n",
              "      <th>Zip</th>\n",
              "      <th>Inspection Date</th>\n",
              "      <th>Inspection Type</th>\n",
              "      <th>Results</th>\n",
              "      <th>Violations</th>\n",
              "      <th>Latitude</th>\n",
              "      <th>Longitude</th>\n",
              "      <th>Location</th>\n",
              "    </tr>\n",
              "  </thead>\n",
              "  <tbody>\n",
              "    <tr>\n",
              "      <th>0</th>\n",
              "      <td>2385628</td>\n",
              "      <td>all in 1 discount inc</td>\n",
              "      <td>all in 1 discount inc</td>\n",
              "      <td>2744661.0</td>\n",
              "      <td>grocery store</td>\n",
              "      <td>risk 3 (low)</td>\n",
              "      <td>5719-5725 w diversey ave</td>\n",
              "      <td>chicago</td>\n",
              "      <td>il</td>\n",
              "      <td>60639.0</td>\n",
              "      <td>08/03/2020</td>\n",
              "      <td>license</td>\n",
              "      <td>pass w/ conditions</td>\n",
              "      <td>5. procedures for responding to vomiting and d...</td>\n",
              "      <td>41.931121</td>\n",
              "      <td>-87.769554</td>\n",
              "      <td>(-87.76955418373417, 41.9311212237607)</td>\n",
              "    </tr>\n",
              "    <tr>\n",
              "      <th>1</th>\n",
              "      <td>2385591</td>\n",
              "      <td>helen's grocery &amp; liq</td>\n",
              "      <td>helen's grocery &amp; liq</td>\n",
              "      <td>8017.0</td>\n",
              "      <td>grocery store</td>\n",
              "      <td>risk 3 (low)</td>\n",
              "      <td>2300 w 21st st</td>\n",
              "      <td>chicago</td>\n",
              "      <td>il</td>\n",
              "      <td>60608.0</td>\n",
              "      <td>07/31/2020</td>\n",
              "      <td>canvass</td>\n",
              "      <td>out of business</td>\n",
              "      <td>NaN</td>\n",
              "      <td>41.854005</td>\n",
              "      <td>-87.683363</td>\n",
              "      <td>(-87.6833629225202, 41.8540047775837)</td>\n",
              "    </tr>\n",
              "  </tbody>\n",
              "</table>\n",
              "</div>"
            ],
            "text/plain": [
              "   Inspection ID  ...                                Location\n",
              "0        2385628  ...  (-87.76955418373417, 41.9311212237607)\n",
              "1        2385591  ...   (-87.6833629225202, 41.8540047775837)\n",
              "\n",
              "[2 rows x 17 columns]"
            ]
          },
          "metadata": {
            "tags": []
          },
          "execution_count": 175
        }
      ]
    },
    {
      "cell_type": "code",
      "metadata": {
        "id": "iWpN8jVvwfnd",
        "outputId": "6ef8b62f-9e3e-42b3-f14f-7dd93afb91d4",
        "colab": {
          "base_uri": "https://localhost:8080/",
          "height": 35
        }
      },
      "source": [
        "dataset.shape"
      ],
      "execution_count": null,
      "outputs": [
        {
          "output_type": "execute_result",
          "data": {
            "text/plain": [
              "(208925, 17)"
            ]
          },
          "metadata": {
            "tags": []
          },
          "execution_count": 176
        }
      ]
    },
    {
      "cell_type": "code",
      "metadata": {
        "id": "riwlY4tG0f2j",
        "outputId": "eb408774-47d7-453d-bade-29a806e920c5",
        "colab": {
          "base_uri": "https://localhost:8080/",
          "height": 312
        }
      },
      "source": [
        "list(dataset.columns) "
      ],
      "execution_count": null,
      "outputs": [
        {
          "output_type": "execute_result",
          "data": {
            "text/plain": [
              "['Inspection ID',\n",
              " 'DBA Name',\n",
              " 'AKA Name',\n",
              " 'License #',\n",
              " 'Facility Type',\n",
              " 'Risk',\n",
              " 'Address',\n",
              " 'City',\n",
              " 'State',\n",
              " 'Zip',\n",
              " 'Inspection Date',\n",
              " 'Inspection Type',\n",
              " 'Results',\n",
              " 'Violations',\n",
              " 'Latitude',\n",
              " 'Longitude',\n",
              " 'Location']"
            ]
          },
          "metadata": {
            "tags": []
          },
          "execution_count": 177
        }
      ]
    },
    {
      "cell_type": "code",
      "metadata": {
        "id": "0sd-72ya1ckU"
      },
      "source": [
        "duplicaterow = dataset.duplicated().any() # False\n",
        "duplicaterow = dataset.duplicated(subset=[\n",
        " 'DBA Name',\n",
        " 'AKA Name',\n",
        " 'Facility Type',\n",
        " 'Risk',\n",
        " 'Address',\n",
        " 'City',\n",
        " 'State',\n",
        " 'Zip',\n",
        " 'Inspection Date',\n",
        " 'Inspection Type',\n",
        " 'Results',\n",
        " 'Violations',\n",
        " 'Latitude',\n",
        " 'Longitude']).any()"
      ],
      "execution_count": null,
      "outputs": []
    },
    {
      "cell_type": "code",
      "metadata": {
        "id": "AVgspBKR2jlo",
        "outputId": "852d1862-4ad9-4d71-d467-1823875cfbc1",
        "colab": {
          "base_uri": "https://localhost:8080/",
          "height": 35
        }
      },
      "source": [
        "duplicaterow"
      ],
      "execution_count": null,
      "outputs": [
        {
          "output_type": "execute_result",
          "data": {
            "text/plain": [
              "True"
            ]
          },
          "metadata": {
            "tags": []
          },
          "execution_count": 179
        }
      ]
    },
    {
      "cell_type": "code",
      "metadata": {
        "id": "0I856Zj1yGHZ"
      },
      "source": [
        "df = dataset[dataset.duplicated([\n",
        " 'DBA Name',\n",
        " 'AKA Name',\n",
        " 'Facility Type',\n",
        " 'Risk',\n",
        " 'Address',\n",
        " 'City',\n",
        " 'State',\n",
        " 'Zip',\n",
        " 'Inspection Date',\n",
        " 'Inspection Type',\n",
        " 'Results',\n",
        " 'Violations',\n",
        " 'Latitude',\n",
        " 'Longitude',\n",
        " ])]"
      ],
      "execution_count": null,
      "outputs": []
    },
    {
      "cell_type": "code",
      "metadata": {
        "id": "ya_b9cOwuiuy",
        "outputId": "794c301e-6852-45a4-869a-1090c2e3b995",
        "colab": {
          "base_uri": "https://localhost:8080/",
          "height": 465
        }
      },
      "source": [
        "df=dataset.drop_duplicates(subset=[\n",
        " 'DBA Name',\n",
        " 'AKA Name',\n",
        " 'Facility Type',\n",
        " 'Risk',\n",
        " 'Address',\n",
        " 'City',\n",
        " 'State',\n",
        " 'Zip',\n",
        " 'Inspection Date',\n",
        " 'Inspection Type',\n",
        " 'Results',\n",
        " 'Violations',\n",
        " 'Latitude',\n",
        " 'Longitude'])\n",
        "df.head()"
      ],
      "execution_count": null,
      "outputs": [
        {
          "output_type": "execute_result",
          "data": {
            "text/html": [
              "<div>\n",
              "<style scoped>\n",
              "    .dataframe tbody tr th:only-of-type {\n",
              "        vertical-align: middle;\n",
              "    }\n",
              "\n",
              "    .dataframe tbody tr th {\n",
              "        vertical-align: top;\n",
              "    }\n",
              "\n",
              "    .dataframe thead th {\n",
              "        text-align: right;\n",
              "    }\n",
              "</style>\n",
              "<table border=\"1\" class=\"dataframe\">\n",
              "  <thead>\n",
              "    <tr style=\"text-align: right;\">\n",
              "      <th></th>\n",
              "      <th>Inspection ID</th>\n",
              "      <th>DBA Name</th>\n",
              "      <th>AKA Name</th>\n",
              "      <th>License #</th>\n",
              "      <th>Facility Type</th>\n",
              "      <th>Risk</th>\n",
              "      <th>Address</th>\n",
              "      <th>City</th>\n",
              "      <th>State</th>\n",
              "      <th>Zip</th>\n",
              "      <th>Inspection Date</th>\n",
              "      <th>Inspection Type</th>\n",
              "      <th>Results</th>\n",
              "      <th>Violations</th>\n",
              "      <th>Latitude</th>\n",
              "      <th>Longitude</th>\n",
              "      <th>Location</th>\n",
              "    </tr>\n",
              "  </thead>\n",
              "  <tbody>\n",
              "    <tr>\n",
              "      <th>0</th>\n",
              "      <td>2385628</td>\n",
              "      <td>all in 1 discount inc</td>\n",
              "      <td>all in 1 discount inc</td>\n",
              "      <td>2744661.0</td>\n",
              "      <td>grocery store</td>\n",
              "      <td>risk 3 (low)</td>\n",
              "      <td>5719-5725 w diversey ave</td>\n",
              "      <td>chicago</td>\n",
              "      <td>il</td>\n",
              "      <td>60639.0</td>\n",
              "      <td>08/03/2020</td>\n",
              "      <td>license</td>\n",
              "      <td>pass w/ conditions</td>\n",
              "      <td>5. procedures for responding to vomiting and d...</td>\n",
              "      <td>41.931121</td>\n",
              "      <td>-87.769554</td>\n",
              "      <td>(-87.76955418373417, 41.9311212237607)</td>\n",
              "    </tr>\n",
              "    <tr>\n",
              "      <th>1</th>\n",
              "      <td>2385591</td>\n",
              "      <td>helen's grocery &amp; liq</td>\n",
              "      <td>helen's grocery &amp; liq</td>\n",
              "      <td>8017.0</td>\n",
              "      <td>grocery store</td>\n",
              "      <td>risk 3 (low)</td>\n",
              "      <td>2300 w 21st st</td>\n",
              "      <td>chicago</td>\n",
              "      <td>il</td>\n",
              "      <td>60608.0</td>\n",
              "      <td>07/31/2020</td>\n",
              "      <td>canvass</td>\n",
              "      <td>out of business</td>\n",
              "      <td>NaN</td>\n",
              "      <td>41.854005</td>\n",
              "      <td>-87.683363</td>\n",
              "      <td>(-87.6833629225202, 41.8540047775837)</td>\n",
              "    </tr>\n",
              "    <tr>\n",
              "      <th>2</th>\n",
              "      <td>2385590</td>\n",
              "      <td>pete's fresh supermarket</td>\n",
              "      <td>pete's fresh supermarket</td>\n",
              "      <td>1771242.0</td>\n",
              "      <td>grocery store</td>\n",
              "      <td>risk 1 (high)</td>\n",
              "      <td>2526 w cermak rd</td>\n",
              "      <td>chicago</td>\n",
              "      <td>il</td>\n",
              "      <td>60608.0</td>\n",
              "      <td>07/31/2020</td>\n",
              "      <td>complaint re-inspection</td>\n",
              "      <td>pass</td>\n",
              "      <td>NaN</td>\n",
              "      <td>41.852101</td>\n",
              "      <td>-87.689051</td>\n",
              "      <td>(-87.68905111060724, 41.85210065324028)</td>\n",
              "    </tr>\n",
              "    <tr>\n",
              "      <th>3</th>\n",
              "      <td>2385587</td>\n",
              "      <td>quest food management services inc</td>\n",
              "      <td>quest food management services inc</td>\n",
              "      <td>2744583.0</td>\n",
              "      <td>NaN</td>\n",
              "      <td>risk 1 (high)</td>\n",
              "      <td>3300 n campbell ave</td>\n",
              "      <td>chicago</td>\n",
              "      <td>il</td>\n",
              "      <td>60618.0</td>\n",
              "      <td>07/31/2020</td>\n",
              "      <td>license</td>\n",
              "      <td>not ready</td>\n",
              "      <td>NaN</td>\n",
              "      <td>41.941426</td>\n",
              "      <td>-87.690799</td>\n",
              "      <td>(-87.69079930080058, 41.94142629278533)</td>\n",
              "    </tr>\n",
              "    <tr>\n",
              "      <th>4</th>\n",
              "      <td>2385543</td>\n",
              "      <td>outlet kingdom</td>\n",
              "      <td>NaN</td>\n",
              "      <td>2054475.0</td>\n",
              "      <td>general store</td>\n",
              "      <td>risk 3 (low)</td>\n",
              "      <td>3449-3451 s halsted st</td>\n",
              "      <td>chicago</td>\n",
              "      <td>il</td>\n",
              "      <td>60608.0</td>\n",
              "      <td>07/30/2020</td>\n",
              "      <td>canvass</td>\n",
              "      <td>out of business</td>\n",
              "      <td>NaN</td>\n",
              "      <td>41.831075</td>\n",
              "      <td>-87.645971</td>\n",
              "      <td>(-87.6459711121892, 41.831074943653626)</td>\n",
              "    </tr>\n",
              "  </tbody>\n",
              "</table>\n",
              "</div>"
            ],
            "text/plain": [
              "   Inspection ID  ...                                 Location\n",
              "0        2385628  ...   (-87.76955418373417, 41.9311212237607)\n",
              "1        2385591  ...    (-87.6833629225202, 41.8540047775837)\n",
              "2        2385590  ...  (-87.68905111060724, 41.85210065324028)\n",
              "3        2385587  ...  (-87.69079930080058, 41.94142629278533)\n",
              "4        2385543  ...  (-87.6459711121892, 41.831074943653626)\n",
              "\n",
              "[5 rows x 17 columns]"
            ]
          },
          "metadata": {
            "tags": []
          },
          "execution_count": 181
        }
      ]
    },
    {
      "cell_type": "code",
      "metadata": {
        "id": "aQJ4etS3vhqZ",
        "outputId": "bf717b44-edd6-4f44-ac3e-e12294f9e068",
        "colab": {
          "base_uri": "https://localhost:8080/",
          "height": 35
        }
      },
      "source": [
        "df.shape"
      ],
      "execution_count": null,
      "outputs": [
        {
          "output_type": "execute_result",
          "data": {
            "text/plain": [
              "(206681, 17)"
            ]
          },
          "metadata": {
            "tags": []
          },
          "execution_count": 182
        }
      ]
    },
    {
      "cell_type": "code",
      "metadata": {
        "id": "KFIugUrFvh7L"
      },
      "source": [
        "df = df.drop('Inspection ID',axis=1)\n",
        "df = df.drop('AKA Name',axis=1)\n",
        "df = df.drop('City',axis=1)\n",
        "df = df.drop('State',axis=1)"
      ],
      "execution_count": null,
      "outputs": []
    },
    {
      "cell_type": "code",
      "metadata": {
        "id": "xZqua1NbviKP",
        "outputId": "c89c71fd-2b5f-44ff-abd9-572069432166",
        "colab": {
          "base_uri": "https://localhost:8080/",
          "height": 260
        }
      },
      "source": [
        "df.dtypes"
      ],
      "execution_count": null,
      "outputs": [
        {
          "output_type": "execute_result",
          "data": {
            "text/plain": [
              "DBA Name            object\n",
              "License #          float64\n",
              "Facility Type       object\n",
              "Risk                object\n",
              "Address             object\n",
              "Zip                float64\n",
              "Inspection Date     object\n",
              "Inspection Type     object\n",
              "Results             object\n",
              "Violations          object\n",
              "Latitude           float64\n",
              "Longitude          float64\n",
              "Location            object\n",
              "dtype: object"
            ]
          },
          "metadata": {
            "tags": []
          },
          "execution_count": 184
        }
      ]
    },
    {
      "cell_type": "code",
      "metadata": {
        "id": "McgD-49uviSA",
        "outputId": "6d9f35b2-7f02-4d03-a3da-df3da621f94f",
        "colab": {
          "base_uri": "https://localhost:8080/",
          "height": 260
        }
      },
      "source": [
        "df.isnull().sum()"
      ],
      "execution_count": null,
      "outputs": [
        {
          "output_type": "execute_result",
          "data": {
            "text/plain": [
              "DBA Name               0\n",
              "License #             17\n",
              "Facility Type       4656\n",
              "Risk                  72\n",
              "Address                0\n",
              "Zip                   51\n",
              "Inspection Date        0\n",
              "Inspection Type        1\n",
              "Results                0\n",
              "Violations         53423\n",
              "Latitude             675\n",
              "Longitude            675\n",
              "Location             675\n",
              "dtype: int64"
            ]
          },
          "metadata": {
            "tags": []
          },
          "execution_count": 185
        }
      ]
    },
    {
      "cell_type": "code",
      "metadata": {
        "id": "RHwqrWstvic9",
        "outputId": "d4136aee-fbe6-4f2f-e921-2861195ed55c",
        "colab": {
          "base_uri": "https://localhost:8080/",
          "height": 260
        }
      },
      "source": [
        "df = df.dropna(how='any', subset=['License #','Zip','Risk','Inspection Type','Latitude','Longitude','Location'])\n",
        "df.isnull().sum()"
      ],
      "execution_count": null,
      "outputs": [
        {
          "output_type": "execute_result",
          "data": {
            "text/plain": [
              "DBA Name               0\n",
              "License #              0\n",
              "Facility Type       4583\n",
              "Risk                   0\n",
              "Address                0\n",
              "Zip                    0\n",
              "Inspection Date        0\n",
              "Inspection Type        0\n",
              "Results                0\n",
              "Violations         53141\n",
              "Latitude               0\n",
              "Longitude              0\n",
              "Location               0\n",
              "dtype: int64"
            ]
          },
          "metadata": {
            "tags": []
          },
          "execution_count": 186
        }
      ]
    },
    {
      "cell_type": "code",
      "metadata": {
        "id": "esFsK6FTviid"
      },
      "source": [
        "df['Facility Type'] = df['Facility Type'].fillna('None')\n",
        "df['Violations'] = df['Violations'].fillna('None')"
      ],
      "execution_count": null,
      "outputs": []
    },
    {
      "cell_type": "code",
      "metadata": {
        "id": "ysDCUUoUviaM"
      },
      "source": [
        "data = df[(df.Results != 'business not located') & (df.Results != 'no entry') & (df.Results != 'not ready') & (df.Results != 'out of business')]"
      ],
      "execution_count": null,
      "outputs": []
    },
    {
      "cell_type": "code",
      "metadata": {
        "id": "nnza5dGvviOE",
        "outputId": "4f12ec43-da20-49fd-b725-87a21581e21e",
        "colab": {
          "base_uri": "https://localhost:8080/",
          "height": 990
        }
      },
      "source": [
        "data"
      ],
      "execution_count": null,
      "outputs": [
        {
          "output_type": "execute_result",
          "data": {
            "text/html": [
              "<div>\n",
              "<style scoped>\n",
              "    .dataframe tbody tr th:only-of-type {\n",
              "        vertical-align: middle;\n",
              "    }\n",
              "\n",
              "    .dataframe tbody tr th {\n",
              "        vertical-align: top;\n",
              "    }\n",
              "\n",
              "    .dataframe thead th {\n",
              "        text-align: right;\n",
              "    }\n",
              "</style>\n",
              "<table border=\"1\" class=\"dataframe\">\n",
              "  <thead>\n",
              "    <tr style=\"text-align: right;\">\n",
              "      <th></th>\n",
              "      <th>DBA Name</th>\n",
              "      <th>License #</th>\n",
              "      <th>Facility Type</th>\n",
              "      <th>Risk</th>\n",
              "      <th>Address</th>\n",
              "      <th>Zip</th>\n",
              "      <th>Inspection Date</th>\n",
              "      <th>Inspection Type</th>\n",
              "      <th>Results</th>\n",
              "      <th>Violations</th>\n",
              "      <th>Latitude</th>\n",
              "      <th>Longitude</th>\n",
              "      <th>Location</th>\n",
              "    </tr>\n",
              "  </thead>\n",
              "  <tbody>\n",
              "    <tr>\n",
              "      <th>0</th>\n",
              "      <td>all in 1 discount inc</td>\n",
              "      <td>2744661.0</td>\n",
              "      <td>grocery store</td>\n",
              "      <td>risk 3 (low)</td>\n",
              "      <td>5719-5725 w diversey ave</td>\n",
              "      <td>60639.0</td>\n",
              "      <td>08/03/2020</td>\n",
              "      <td>license</td>\n",
              "      <td>pass w/ conditions</td>\n",
              "      <td>5. procedures for responding to vomiting and d...</td>\n",
              "      <td>41.931121</td>\n",
              "      <td>-87.769554</td>\n",
              "      <td>(-87.76955418373417, 41.9311212237607)</td>\n",
              "    </tr>\n",
              "    <tr>\n",
              "      <th>2</th>\n",
              "      <td>pete's fresh supermarket</td>\n",
              "      <td>1771242.0</td>\n",
              "      <td>grocery store</td>\n",
              "      <td>risk 1 (high)</td>\n",
              "      <td>2526 w cermak rd</td>\n",
              "      <td>60608.0</td>\n",
              "      <td>07/31/2020</td>\n",
              "      <td>complaint re-inspection</td>\n",
              "      <td>pass</td>\n",
              "      <td>None</td>\n",
              "      <td>41.852101</td>\n",
              "      <td>-87.689051</td>\n",
              "      <td>(-87.68905111060724, 41.85210065324028)</td>\n",
              "    </tr>\n",
              "    <tr>\n",
              "      <th>5</th>\n",
              "      <td>chop suey huang</td>\n",
              "      <td>2463091.0</td>\n",
              "      <td>restaurant</td>\n",
              "      <td>risk 1 (high)</td>\n",
              "      <td>5202 n lincoln ave</td>\n",
              "      <td>60625.0</td>\n",
              "      <td>07/30/2020</td>\n",
              "      <td>canvass re-inspection</td>\n",
              "      <td>pass w/ conditions</td>\n",
              "      <td>5. procedures for responding to vomiting and d...</td>\n",
              "      <td>41.975976</td>\n",
              "      <td>-87.692494</td>\n",
              "      <td>(-87.6924942225335, 41.97597608993619)</td>\n",
              "    </tr>\n",
              "    <tr>\n",
              "      <th>6</th>\n",
              "      <td>odyssey  chicago river</td>\n",
              "      <td>2713082.0</td>\n",
              "      <td>restaurant</td>\n",
              "      <td>risk 1 (high)</td>\n",
              "      <td>455 n cityfront plaza dr</td>\n",
              "      <td>60611.0</td>\n",
              "      <td>07/27/2020</td>\n",
              "      <td>license</td>\n",
              "      <td>pass</td>\n",
              "      <td>None</td>\n",
              "      <td>41.890001</td>\n",
              "      <td>-87.621439</td>\n",
              "      <td>(-87.62143868830125, 41.890001335214684)</td>\n",
              "    </tr>\n",
              "    <tr>\n",
              "      <th>7</th>\n",
              "      <td>brando's</td>\n",
              "      <td>2738736.0</td>\n",
              "      <td>restaurant</td>\n",
              "      <td>risk 2 (medium)</td>\n",
              "      <td>343 s dearborn st</td>\n",
              "      <td>60604.0</td>\n",
              "      <td>07/28/2020</td>\n",
              "      <td>license</td>\n",
              "      <td>pass</td>\n",
              "      <td>None</td>\n",
              "      <td>41.877147</td>\n",
              "      <td>-87.629121</td>\n",
              "      <td>(-87.62912123316899, 41.877146786216336)</td>\n",
              "    </tr>\n",
              "    <tr>\n",
              "      <th>...</th>\n",
              "      <td>...</td>\n",
              "      <td>...</td>\n",
              "      <td>...</td>\n",
              "      <td>...</td>\n",
              "      <td>...</td>\n",
              "      <td>...</td>\n",
              "      <td>...</td>\n",
              "      <td>...</td>\n",
              "      <td>...</td>\n",
              "      <td>...</td>\n",
              "      <td>...</td>\n",
              "      <td>...</td>\n",
              "      <td>...</td>\n",
              "    </tr>\n",
              "    <tr>\n",
              "      <th>208920</th>\n",
              "      <td>t tasty house</td>\n",
              "      <td>2017359.0</td>\n",
              "      <td>restaurant</td>\n",
              "      <td>risk 1 (high)</td>\n",
              "      <td>2002 s wentworth ave</td>\n",
              "      <td>60616.0</td>\n",
              "      <td>02/10/2010</td>\n",
              "      <td>license re-inspection</td>\n",
              "      <td>pass</td>\n",
              "      <td>None</td>\n",
              "      <td>41.855282</td>\n",
              "      <td>-87.631993</td>\n",
              "      <td>(-87.63199264229414, 41.85528170377401)</td>\n",
              "    </tr>\n",
              "    <tr>\n",
              "      <th>208921</th>\n",
              "      <td>wrigleyville dog</td>\n",
              "      <td>25051.0</td>\n",
              "      <td>restaurant</td>\n",
              "      <td>risk 1 (high)</td>\n",
              "      <td>3735 n clark st</td>\n",
              "      <td>60613.0</td>\n",
              "      <td>02/02/2010</td>\n",
              "      <td>canvass</td>\n",
              "      <td>fail</td>\n",
              "      <td>3. potentially hazardous food meets temperatur...</td>\n",
              "      <td>41.949895</td>\n",
              "      <td>-87.658511</td>\n",
              "      <td>(-87.65851083690285, 41.94989452098964)</td>\n",
              "    </tr>\n",
              "    <tr>\n",
              "      <th>208922</th>\n",
              "      <td>adler school inc</td>\n",
              "      <td>6765.0</td>\n",
              "      <td>daycare (2 - 6 years)</td>\n",
              "      <td>risk 1 (high)</td>\n",
              "      <td>2237-2239 w lawrence ave</td>\n",
              "      <td>60625.0</td>\n",
              "      <td>01/22/2010</td>\n",
              "      <td>license re-inspection</td>\n",
              "      <td>pass</td>\n",
              "      <td>None</td>\n",
              "      <td>41.968554</td>\n",
              "      <td>-87.685483</td>\n",
              "      <td>(-87.68548253142126, 41.968553831007675)</td>\n",
              "    </tr>\n",
              "    <tr>\n",
              "      <th>208923</th>\n",
              "      <td>best sub no2</td>\n",
              "      <td>1647305.0</td>\n",
              "      <td>restaurant</td>\n",
              "      <td>risk 2 (medium)</td>\n",
              "      <td>3426 w diversey ave</td>\n",
              "      <td>60647.0</td>\n",
              "      <td>02/10/2010</td>\n",
              "      <td>canvass</td>\n",
              "      <td>pass</td>\n",
              "      <td>33. food and non-food contact equipment utensi...</td>\n",
              "      <td>41.932069</td>\n",
              "      <td>-87.713294</td>\n",
              "      <td>(-87.71329441237397, 41.932068626464286)</td>\n",
              "    </tr>\n",
              "    <tr>\n",
              "      <th>208924</th>\n",
              "      <td>izumi sushi bar &amp; restaurant</td>\n",
              "      <td>1357260.0</td>\n",
              "      <td>restaurant</td>\n",
              "      <td>risk 1 (high)</td>\n",
              "      <td>731 w randolph st</td>\n",
              "      <td>60661.0</td>\n",
              "      <td>01/05/2010</td>\n",
              "      <td>complaint</td>\n",
              "      <td>fail</td>\n",
              "      <td>18. no evidence of rodent or insect outer open...</td>\n",
              "      <td>41.884301</td>\n",
              "      <td>-87.646953</td>\n",
              "      <td>(-87.64695273829979, 41.884300945480696)</td>\n",
              "    </tr>\n",
              "  </tbody>\n",
              "</table>\n",
              "<p>179291 rows × 13 columns</p>\n",
              "</div>"
            ],
            "text/plain": [
              "                            DBA Name  ...                                  Location\n",
              "0              all in 1 discount inc  ...    (-87.76955418373417, 41.9311212237607)\n",
              "2           pete's fresh supermarket  ...   (-87.68905111060724, 41.85210065324028)\n",
              "5                    chop suey huang  ...    (-87.6924942225335, 41.97597608993619)\n",
              "6             odyssey  chicago river  ...  (-87.62143868830125, 41.890001335214684)\n",
              "7                           brando's  ...  (-87.62912123316899, 41.877146786216336)\n",
              "...                              ...  ...                                       ...\n",
              "208920                 t tasty house  ...   (-87.63199264229414, 41.85528170377401)\n",
              "208921              wrigleyville dog  ...   (-87.65851083690285, 41.94989452098964)\n",
              "208922              adler school inc  ...  (-87.68548253142126, 41.968553831007675)\n",
              "208923                  best sub no2  ...  (-87.71329441237397, 41.932068626464286)\n",
              "208924  izumi sushi bar & restaurant  ...  (-87.64695273829979, 41.884300945480696)\n",
              "\n",
              "[179291 rows x 13 columns]"
            ]
          },
          "metadata": {
            "tags": []
          },
          "execution_count": 189
        }
      ]
    },
    {
      "cell_type": "code",
      "metadata": {
        "id": "KOjXmj7aT4Me"
      },
      "source": [
        "cleanup_nums = {\"Risk\":     {\"risk 1 (high)\": 2, \"risk 2 (medium)\": 1, \"risk 3 (low)\" : 0},\n",
        "                \"Results\": {\"pass\": 0, \"pass w/ conditions\": 1, \"fail\": 2 }}"
      ],
      "execution_count": null,
      "outputs": []
    },
    {
      "cell_type": "code",
      "metadata": {
        "id": "HiHQtQNvT4JW",
        "outputId": "15aa0b20-9982-45d8-9719-2a1d1cd64e05",
        "colab": {
          "base_uri": "https://localhost:8080/",
          "height": 621
        }
      },
      "source": [
        "data.replace(cleanup_nums, inplace=True)\n",
        "data.head()"
      ],
      "execution_count": null,
      "outputs": [
        {
          "output_type": "stream",
          "text": [
            "/usr/local/lib/python3.6/dist-packages/pandas/core/generic.py:6666: SettingWithCopyWarning: \n",
            "A value is trying to be set on a copy of a slice from a DataFrame.\n",
            "Try using .loc[row_indexer,col_indexer] = value instead\n",
            "\n",
            "See the caveats in the documentation: https://pandas.pydata.org/pandas-docs/stable/user_guide/indexing.html#returning-a-view-versus-a-copy\n",
            "  regex=regex,\n"
          ],
          "name": "stderr"
        },
        {
          "output_type": "execute_result",
          "data": {
            "text/html": [
              "<div>\n",
              "<style scoped>\n",
              "    .dataframe tbody tr th:only-of-type {\n",
              "        vertical-align: middle;\n",
              "    }\n",
              "\n",
              "    .dataframe tbody tr th {\n",
              "        vertical-align: top;\n",
              "    }\n",
              "\n",
              "    .dataframe thead th {\n",
              "        text-align: right;\n",
              "    }\n",
              "</style>\n",
              "<table border=\"1\" class=\"dataframe\">\n",
              "  <thead>\n",
              "    <tr style=\"text-align: right;\">\n",
              "      <th></th>\n",
              "      <th>DBA Name</th>\n",
              "      <th>License #</th>\n",
              "      <th>Facility Type</th>\n",
              "      <th>Risk</th>\n",
              "      <th>Address</th>\n",
              "      <th>Zip</th>\n",
              "      <th>Inspection Date</th>\n",
              "      <th>Inspection Type</th>\n",
              "      <th>Results</th>\n",
              "      <th>Violations</th>\n",
              "      <th>Latitude</th>\n",
              "      <th>Longitude</th>\n",
              "      <th>Location</th>\n",
              "    </tr>\n",
              "  </thead>\n",
              "  <tbody>\n",
              "    <tr>\n",
              "      <th>0</th>\n",
              "      <td>all in 1 discount inc</td>\n",
              "      <td>2744661.0</td>\n",
              "      <td>grocery store</td>\n",
              "      <td>0</td>\n",
              "      <td>5719-5725 w diversey ave</td>\n",
              "      <td>60639.0</td>\n",
              "      <td>08/03/2020</td>\n",
              "      <td>license</td>\n",
              "      <td>1</td>\n",
              "      <td>5. procedures for responding to vomiting and d...</td>\n",
              "      <td>41.931121</td>\n",
              "      <td>-87.769554</td>\n",
              "      <td>(-87.76955418373417, 41.9311212237607)</td>\n",
              "    </tr>\n",
              "    <tr>\n",
              "      <th>2</th>\n",
              "      <td>pete's fresh supermarket</td>\n",
              "      <td>1771242.0</td>\n",
              "      <td>grocery store</td>\n",
              "      <td>2</td>\n",
              "      <td>2526 w cermak rd</td>\n",
              "      <td>60608.0</td>\n",
              "      <td>07/31/2020</td>\n",
              "      <td>complaint re-inspection</td>\n",
              "      <td>0</td>\n",
              "      <td>None</td>\n",
              "      <td>41.852101</td>\n",
              "      <td>-87.689051</td>\n",
              "      <td>(-87.68905111060724, 41.85210065324028)</td>\n",
              "    </tr>\n",
              "    <tr>\n",
              "      <th>5</th>\n",
              "      <td>chop suey huang</td>\n",
              "      <td>2463091.0</td>\n",
              "      <td>restaurant</td>\n",
              "      <td>2</td>\n",
              "      <td>5202 n lincoln ave</td>\n",
              "      <td>60625.0</td>\n",
              "      <td>07/30/2020</td>\n",
              "      <td>canvass re-inspection</td>\n",
              "      <td>1</td>\n",
              "      <td>5. procedures for responding to vomiting and d...</td>\n",
              "      <td>41.975976</td>\n",
              "      <td>-87.692494</td>\n",
              "      <td>(-87.6924942225335, 41.97597608993619)</td>\n",
              "    </tr>\n",
              "    <tr>\n",
              "      <th>6</th>\n",
              "      <td>odyssey  chicago river</td>\n",
              "      <td>2713082.0</td>\n",
              "      <td>restaurant</td>\n",
              "      <td>2</td>\n",
              "      <td>455 n cityfront plaza dr</td>\n",
              "      <td>60611.0</td>\n",
              "      <td>07/27/2020</td>\n",
              "      <td>license</td>\n",
              "      <td>0</td>\n",
              "      <td>None</td>\n",
              "      <td>41.890001</td>\n",
              "      <td>-87.621439</td>\n",
              "      <td>(-87.62143868830125, 41.890001335214684)</td>\n",
              "    </tr>\n",
              "    <tr>\n",
              "      <th>7</th>\n",
              "      <td>brando's</td>\n",
              "      <td>2738736.0</td>\n",
              "      <td>restaurant</td>\n",
              "      <td>1</td>\n",
              "      <td>343 s dearborn st</td>\n",
              "      <td>60604.0</td>\n",
              "      <td>07/28/2020</td>\n",
              "      <td>license</td>\n",
              "      <td>0</td>\n",
              "      <td>None</td>\n",
              "      <td>41.877147</td>\n",
              "      <td>-87.629121</td>\n",
              "      <td>(-87.62912123316899, 41.877146786216336)</td>\n",
              "    </tr>\n",
              "  </tbody>\n",
              "</table>\n",
              "</div>"
            ],
            "text/plain": [
              "                   DBA Name  ...                                  Location\n",
              "0     all in 1 discount inc  ...    (-87.76955418373417, 41.9311212237607)\n",
              "2  pete's fresh supermarket  ...   (-87.68905111060724, 41.85210065324028)\n",
              "5           chop suey huang  ...    (-87.6924942225335, 41.97597608993619)\n",
              "6    odyssey  chicago river  ...  (-87.62143868830125, 41.890001335214684)\n",
              "7                  brando's  ...  (-87.62912123316899, 41.877146786216336)\n",
              "\n",
              "[5 rows x 13 columns]"
            ]
          },
          "metadata": {
            "tags": []
          },
          "execution_count": 194
        }
      ]
    },
    {
      "cell_type": "code",
      "metadata": {
        "id": "EID63i0eT4F9",
        "outputId": "4c70e97c-6e2b-41cf-9b46-19007a8987ce",
        "colab": {
          "base_uri": "https://localhost:8080/",
          "height": 55
        }
      },
      "source": [
        "from google.colab import drive\n",
        "drive.mount('drive')"
      ],
      "execution_count": null,
      "outputs": [
        {
          "output_type": "stream",
          "text": [
            "Drive already mounted at drive; to attempt to forcibly remount, call drive.mount(\"drive\", force_remount=True).\n"
          ],
          "name": "stdout"
        }
      ]
    },
    {
      "cell_type": "code",
      "metadata": {
        "id": "6x-lCtMST4CH"
      },
      "source": [
        "data.to_csv('data.csv')\n",
        "!cp data.csv \"drive/My Drive/\""
      ],
      "execution_count": null,
      "outputs": []
    },
    {
      "cell_type": "code",
      "metadata": {
        "id": "kDqX_7nKT3-3"
      },
      "source": [
        ""
      ],
      "execution_count": null,
      "outputs": []
    },
    {
      "cell_type": "code",
      "metadata": {
        "id": "mhLyQO7WviEv"
      },
      "source": [
        ""
      ],
      "execution_count": null,
      "outputs": []
    },
    {
      "cell_type": "code",
      "metadata": {
        "id": "wtoBqbU8viC9"
      },
      "source": [
        ""
      ],
      "execution_count": null,
      "outputs": []
    },
    {
      "cell_type": "code",
      "metadata": {
        "id": "x7OoQcS-viBb"
      },
      "source": [
        ""
      ],
      "execution_count": null,
      "outputs": []
    },
    {
      "cell_type": "code",
      "metadata": {
        "id": "w4XPYs87vh-k"
      },
      "source": [
        ""
      ],
      "execution_count": null,
      "outputs": []
    },
    {
      "cell_type": "code",
      "metadata": {
        "id": "BXUIHFkrvh5E"
      },
      "source": [
        ""
      ],
      "execution_count": null,
      "outputs": []
    },
    {
      "cell_type": "code",
      "metadata": {
        "id": "t_zDxbLxvh3C"
      },
      "source": [
        ""
      ],
      "execution_count": null,
      "outputs": []
    },
    {
      "cell_type": "code",
      "metadata": {
        "id": "D-832aCpvh0X"
      },
      "source": [
        ""
      ],
      "execution_count": null,
      "outputs": []
    },
    {
      "cell_type": "code",
      "metadata": {
        "id": "WqpPq_jTvhyB"
      },
      "source": [
        ""
      ],
      "execution_count": null,
      "outputs": []
    },
    {
      "cell_type": "code",
      "metadata": {
        "id": "nPHWiQ-1vhve"
      },
      "source": [
        ""
      ],
      "execution_count": null,
      "outputs": []
    },
    {
      "cell_type": "code",
      "metadata": {
        "id": "sUV8DjR_vhte"
      },
      "source": [
        ""
      ],
      "execution_count": null,
      "outputs": []
    },
    {
      "cell_type": "code",
      "metadata": {
        "id": "YNmhIMeKuiyW"
      },
      "source": [
        ""
      ],
      "execution_count": null,
      "outputs": []
    },
    {
      "cell_type": "code",
      "metadata": {
        "id": "1fDke56duisu"
      },
      "source": [
        ""
      ],
      "execution_count": null,
      "outputs": []
    }
  ]
}